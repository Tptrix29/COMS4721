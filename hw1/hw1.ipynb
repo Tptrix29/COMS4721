{
 "cells": [
  {
   "cell_type": "code",
   "execution_count": null,
   "id": "initial_id",
   "metadata": {
    "collapsed": true,
    "is_executing": true
   },
   "outputs": [],
   "source": [
    "from hw1 import *"
   ]
  },
  {
   "cell_type": "code",
   "outputs": [],
   "source": [
    "T = 50\n",
    "sentence_len = 20\n",
    "n_sentence = 5\n",
    "human_file = \"../data/hw1/humvgpt/hum.txt\"\n",
    "gpt_file = \"../data/hw1/humvgpt/gpt.txt\" \n",
    "\n",
    "def generate_model(corpus, n):\n",
    "    model = NGramModel(corpus, n)\n",
    "    model.train()\n",
    "    return model"
   ],
   "metadata": {
    "collapsed": false,
    "is_executing": true
   },
   "id": "7c0ca67f9d6d8995",
   "execution_count": null
  },
  {
   "cell_type": "markdown",
   "source": [
    "### Bigram Model"
   ],
   "metadata": {
    "collapsed": false
   },
   "id": "85fef848ea0d7c78"
  },
  {
   "cell_type": "code",
   "outputs": [],
   "source": [
    "N = 2"
   ],
   "metadata": {
    "collapsed": false,
    "is_executing": true
   },
   "id": "eaf2d60c11b0bcd5",
   "execution_count": null
  },
  {
   "cell_type": "code",
   "outputs": [],
   "source": [
    "human_corpus = read_corpus(human_file, start_token=N-1)\n",
    "gpt_corpus = read_corpus(gpt_file, start_token=N-1)\n",
    "labels = [0 for _ in range(len(human_corpus))]\n",
    "labels.extend([1 for _ in range(len(gpt_corpus))])\n",
    "corpus = human_corpus.copy()\n",
    "corpus.extend(gpt_corpus)\n",
    "len(corpus), len(human_corpus), len(gpt_corpus)"
   ],
   "metadata": {
    "collapsed": false,
    "is_executing": true
   },
   "id": "fc10a732f7ea6366",
   "execution_count": null
  },
  {
   "cell_type": "markdown",
   "source": [
    "#### Train & Test Split"
   ],
   "metadata": {
    "collapsed": false
   },
   "id": "1e9d9319fba60659"
  },
  {
   "cell_type": "code",
   "outputs": [],
   "source": [
    "X_train, X_test, y_train, y_test = train_test_split(corpus, labels, test_ratio=0.1)\n",
    "len(X_train), len(X_test)"
   ],
   "metadata": {
    "collapsed": false,
    "is_executing": true
   },
   "id": "761031fca1f10462",
   "execution_count": null
  },
  {
   "cell_type": "code",
   "outputs": [],
   "source": [
    "V = vocabulary(X_train, X_test)\n",
    "len(V)"
   ],
   "metadata": {
    "collapsed": false,
    "is_executing": true
   },
   "id": "dd861eab8021e819",
   "execution_count": null
  },
  {
   "cell_type": "markdown",
   "source": [
    "#### OOV"
   ],
   "metadata": {
    "collapsed": false
   },
   "id": "82e4bd03e2744dbc"
  },
  {
   "cell_type": "code",
   "outputs": [],
   "source": [
    "oov_rate_n_gram(X_train, X_test, n=N)"
   ],
   "metadata": {
    "collapsed": false,
    "is_executing": true
   },
   "id": "b9c3765caf681d23",
   "execution_count": null
  },
  {
   "cell_type": "markdown",
   "source": [
    "#### Classification "
   ],
   "metadata": {
    "collapsed": false
   },
   "id": "3b329df6fcb28eb8"
  },
  {
   "cell_type": "code",
   "outputs": [],
   "source": [
    "bigram_model = NGramModel(X_train, n=N, y=y_train, V=V)\n",
    "bigram_model.train()"
   ],
   "metadata": {
    "collapsed": false,
    "is_executing": true
   },
   "id": "a11af3487d60e02d",
   "execution_count": null
  },
  {
   "cell_type": "code",
   "outputs": [],
   "source": [
    "pred = bigram_model.predict(X_test)"
   ],
   "metadata": {
    "collapsed": false,
    "is_executing": true
   },
   "id": "decbcbe7dcd0e032",
   "execution_count": null
  },
  {
   "cell_type": "code",
   "outputs": [],
   "source": [
    "accuracy(pred, y_test)"
   ],
   "metadata": {
    "collapsed": false,
    "is_executing": true
   },
   "id": "fbd19418e2acdafa",
   "execution_count": null
  },
  {
   "cell_type": "markdown",
   "source": [
    "#### Text Generation"
   ],
   "metadata": {
    "collapsed": false
   },
   "id": "401cede199dda988"
  },
  {
   "cell_type": "code",
   "outputs": [],
   "source": [
    "# human corpus for text generation\n",
    "human_bigram = generate_model(human_corpus, N)\n",
    "\"\\n\".join([human_bigram.generate_sentence(count=sentence_len, T=T) for _ in range (n_sentence)])"
   ],
   "metadata": {
    "collapsed": false,
    "is_executing": true
   },
   "id": "f4543fb3d3a70489",
   "execution_count": null
  },
  {
   "cell_type": "code",
   "outputs": [],
   "source": [
    "gpt_bigram = generate_model(gpt_corpus, N)\n",
    "\"\\n\".join([gpt_bigram.generate_sentence(count=sentence_len, T=T) for _ in range(n_sentence)])"
   ],
   "metadata": {
    "collapsed": false,
    "is_executing": true
   },
   "id": "109f2bae66c70148",
   "execution_count": null
  },
  {
   "cell_type": "markdown",
   "source": [
    "### Trigram Model"
   ],
   "metadata": {
    "collapsed": false
   },
   "id": "c109adc72d172619"
  },
  {
   "cell_type": "code",
   "outputs": [],
   "source": [
    "N = 3"
   ],
   "metadata": {
    "collapsed": false,
    "is_executing": true
   },
   "id": "73364aafeea6a60b",
   "execution_count": null
  },
  {
   "cell_type": "code",
   "outputs": [],
   "source": [
    "human_corpus = read_corpus(human_file, start_token=N-1)\n",
    "gpt_corpus = read_corpus(gpt_file, start_token=N-1)\n",
    "labels = [0 for _ in range(len(human_corpus))]\n",
    "labels.extend([1 for _ in range(len(gpt_corpus))])\n",
    "corpus = human_corpus.copy()\n",
    "corpus.extend(gpt_corpus)"
   ],
   "metadata": {
    "collapsed": false,
    "is_executing": true
   },
   "id": "5789047c0aee138b",
   "execution_count": null
  },
  {
   "cell_type": "code",
   "outputs": [],
   "source": [
    "X_train, X_test, y_train, y_test = train_test_split(corpus, labels, test_ratio=0.1, shuffle=False)\n",
    "len(y_train), len(y_test)"
   ],
   "metadata": {
    "collapsed": false,
    "is_executing": true
   },
   "id": "4dc3ef37dab4d254",
   "execution_count": null
  },
  {
   "cell_type": "code",
   "outputs": [],
   "source": [
    "V = vocabulary(X_train, X_test)\n",
    "len(V)"
   ],
   "metadata": {
    "collapsed": false,
    "is_executing": true
   },
   "id": "cbbeb4c562ec39c6",
   "execution_count": null
  },
  {
   "cell_type": "markdown",
   "source": [
    "#### OOV"
   ],
   "metadata": {
    "collapsed": false
   },
   "id": "8a24028dcbc8fbdb"
  },
  {
   "cell_type": "code",
   "outputs": [],
   "source": [
    "oov_rate_n_gram(X_train, X_test, n=N)"
   ],
   "metadata": {
    "collapsed": false,
    "is_executing": true
   },
   "id": "82b0adbdd1359e23",
   "execution_count": null
  },
  {
   "cell_type": "markdown",
   "source": [
    "#### Classification"
   ],
   "metadata": {
    "collapsed": false
   },
   "id": "9378975cfd373086"
  },
  {
   "cell_type": "code",
   "outputs": [],
   "source": [
    "trigram_model = NGramModel(X_train, n=N, y=y_train, V=V)\n",
    "trigram_model.train()"
   ],
   "metadata": {
    "collapsed": false,
    "is_executing": true
   },
   "id": "8aea0a7d89acd04d",
   "execution_count": null
  },
  {
   "cell_type": "code",
   "outputs": [],
   "source": [
    "pred = trigram_model.predict(X_test)"
   ],
   "metadata": {
    "collapsed": false,
    "is_executing": true
   },
   "id": "3625c43fc2de6e9a",
   "execution_count": null
  },
  {
   "cell_type": "code",
   "outputs": [],
   "source": [
    "accuracy(pred, y_test)"
   ],
   "metadata": {
    "collapsed": false,
    "is_executing": true
   },
   "id": "afd4e31f5602336d",
   "execution_count": null
  },
  {
   "cell_type": "markdown",
   "source": [
    "#### Text Generation"
   ],
   "metadata": {
    "collapsed": false
   },
   "id": "ec8b3c4f7841d58b"
  },
  {
   "cell_type": "code",
   "outputs": [],
   "source": [
    "# human corpus for text generation\n",
    "human_bigram = generate_model(human_corpus, N)\n",
    "\"\\n\".join([human_bigram.generate_sentence(count=sentence_len, T=T) for _ in range (n_sentence)])"
   ],
   "metadata": {
    "collapsed": false,
    "is_executing": true
   },
   "id": "3031be1742d50d90",
   "execution_count": null
  },
  {
   "cell_type": "code",
   "outputs": [],
   "source": [
    "gpt_bigram = generate_model(gpt_corpus, N)\n",
    "\"\\n\".join([gpt_bigram.generate_sentence(count=sentence_len, T=T) for _ in range(n_sentence)])"
   ],
   "metadata": {
    "collapsed": false,
    "is_executing": true
   },
   "id": "385c630583a03f02",
   "execution_count": null
  }
 ],
 "metadata": {
  "kernelspec": {
   "display_name": "Python 3",
   "language": "python",
   "name": "python3"
  },
  "language_info": {
   "codemirror_mode": {
    "name": "ipython",
    "version": 2
   },
   "file_extension": ".py",
   "mimetype": "text/x-python",
   "name": "python",
   "nbconvert_exporter": "python",
   "pygments_lexer": "ipython2",
   "version": "2.7.6"
  }
 },
 "nbformat": 4,
 "nbformat_minor": 5
}
